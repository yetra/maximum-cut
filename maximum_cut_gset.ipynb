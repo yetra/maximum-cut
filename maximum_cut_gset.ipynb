{
 "cells": [
  {
   "cell_type": "markdown",
   "metadata": {},
   "source": [
    "# Solving the Max-Cut Problem using Quantum Annealing"
   ]
  },
  {
   "cell_type": "code",
   "execution_count": 1,
   "metadata": {},
   "outputs": [],
   "source": [
    "from collections import defaultdict\n",
    "\n",
    "from dwave.system.samplers import DWaveSampler\n",
    "from dwave.system.composites import EmbeddingComposite\n",
    "import networkx as nx\n",
    "import dwave.inspector\n",
    "\n",
    "import matplotlib\n",
    "matplotlib.use(\"agg\")\n",
    "from matplotlib import pyplot as plt"
   ]
  },
  {
   "cell_type": "markdown",
   "metadata": {},
   "source": [
    "## The Max-Cut problem"
   ]
  },
  {
   "cell_type": "markdown",
   "metadata": {},
   "source": [
    "Given an undirected graph $G(V, E)$, where $V$ is the set of vertices and $E$ the set of edges, we want to find a partition of $V$ into two subsets $S_1 \\subset V$ and $S_2 = V \\setminus S_1$ such that the number of edges between $S_1$ and $S_2$ (i.e. the size of the cut-set) is a large as possible. Note that each edge in the cut-set has one endpoint in $S_1$ and one in $S_2$. For weighted undirected graphs, we want to maximize the sum of the weights on the edges in the cut-set."
   ]
  },
  {
   "cell_type": "markdown",
   "metadata": {},
   "source": [
    "### QUBO formulation of the Max-Cut problem"
   ]
  },
  {
   "cell_type": "markdown",
   "metadata": {},
   "source": [
    "To solve the Max-Cut problem using quantum annealing, we'll model it in terms of a QUBO (quadratic unconstrained binary optimization) problem\n",
    "\n",
    "$$\n",
    "    \\mathrm{Minimize}\\quad f(\\mathbf{x}) = \\mathbf{x}^\\top \\mathbf{Q} \\mathbf{x},\n",
    "$$\n",
    "\n",
    "where $\\mathbf{x} = \\{0, 1\\}^n$ is a vector of binary variables and $\\mathbf{Q}$ is a user-specified $n \\times n$ coefficient matrix."
   ]
  },
  {
   "cell_type": "markdown",
   "metadata": {},
   "source": [
    "Let us assign a binary variable $x_i \\in \\{0, 1\\},\\ i = 1, ..., |V|$ to each of the vertices $i \\in V$ of our undirected graph $G$. We'll use those binary variables to indicate whether $i$ is in the subset $S_1$ or $S_2$:\n",
    "\n",
    "$$\n",
    "    x_i = \\begin{cases}\n",
    "        1, & i \\in S_1 \\\\\n",
    "        0, & i \\in S_2\n",
    "    \\end{cases}\n",
    "$$\n",
    "\n",
    "Due to the binary nature of the model, the value of the expression $x_i + x_j - 2x_ix_j$ can be used to indicate whether the edge $\\{i, j\\}$ belongs to the cut-set:\n",
    "\n",
    "$$\n",
    "    x_i + x_j - 2x_ix_j = \\begin{cases}\n",
    "        1, & \\textrm{edge } \\{i, j\\}\\, \\textrm{is in the cut-set}, \\\\\n",
    "        0, & \\textrm{edge } \\{i, j\\}\\, \\textrm{is not in the cut-set}\n",
    "    \\end{cases}\n",
    "$$\n",
    "\n",
    "Finding the max-cut between $S_1$ i $S_2$ is therefore equivalent to maximizing the sum of the above expressions for each edge of the edge-set $E$:\n",
    "\n",
    "$$\n",
    "    \\operatorname{Maximize}\\quad f(\\mathbf{x}) = \\sum_{(i, j) \\in E} (x_i + x_j - 2x_ix_j),\n",
    "$$\n",
    "\n",
    "or, when converted to a minimization problem:\n",
    "$$\n",
    "    \\operatorname{Minimize}\\quad f(\\mathbf{x}) = \\sum_{(i, j) \\in E} (2x_ix_j - x_i - x_j),\n",
    "$$\n",
    "which is a QUBO problem for $\\mathbf{x} = \\{0, 1\\}^{|V|}$."
   ]
  },
  {
   "cell_type": "markdown",
   "metadata": {},
   "source": [
    "A similar procedure is used for weighted undirected graph. Since all edges have weights assigned to them, one needs to multilpy the expression $x_i + x_j - 2x_ix_j$ with the corresponding weight $w_{ij}$:\n",
    "$$\n",
    "    w_{ij} (x_i + x_j - 2x_ix_j) = \\begin{cases}\n",
    "        w_{ij}, & \\textrm{edge } \\{i, j\\}\\, \\textrm{is in the cut-set}, \\\\\n",
    "        0, & \\textrm{edge } \\{i, j\\}\\, \\textrm{is not in the cut-set},\n",
    "    \\end{cases}\n",
    "$$\n",
    "the QUBO problem is then:\n",
    "\\begin{equation}\n",
    "    \\operatorname{Minimize}\\quad f(\\mathbf{x}) = \\sum_{(i, j) \\in E} w_{ij} (2x_ix_j - x_i - x_j)\n",
    "\\end{equation}"
   ]
  },
  {
   "cell_type": "markdown",
   "metadata": {},
   "source": [
    "## QA Max-Cut: Example"
   ]
  },
  {
   "cell_type": "markdown",
   "metadata": {},
   "source": [
    "The example is taken from D-Wave's [maximum-cut](https://github.com/dwave-examples/maximum-cut) GitHub repository."
   ]
  },
  {
   "cell_type": "code",
   "execution_count": 58,
   "metadata": {},
   "outputs": [],
   "source": [
    "G = nx.Graph()\n",
    "G.add_edges_from([(1,2),(1,3),(2,4),(3,4),(3,5),(4,5)])"
   ]
  },
  {
   "cell_type": "code",
   "execution_count": 59,
   "metadata": {},
   "outputs": [],
   "source": [
    "nx.draw(G, with_labels=True)\n",
    "plt.savefig('simple_graph.png')"
   ]
  },
  {
   "cell_type": "markdown",
   "metadata": {},
   "source": [
    "![Simple graph](simple_graph.png)"
   ]
  },
  {
   "cell_type": "markdown",
   "metadata": {},
   "source": [
    "Construct the $\\mathbf{Q}$ matrix:"
   ]
  },
  {
   "cell_type": "code",
   "execution_count": 60,
   "metadata": {},
   "outputs": [],
   "source": [
    "Q = defaultdict(int)\n",
    "\n",
    "for i, j in G.edges:\n",
    "    Q[i, i] -= 1\n",
    "    Q[j, j] -= 1\n",
    "    Q[i, j] += 2"
   ]
  },
  {
   "cell_type": "markdown",
   "metadata": {},
   "source": [
    "Set up QPU parameters:"
   ]
  },
  {
   "cell_type": "code",
   "execution_count": 61,
   "metadata": {},
   "outputs": [],
   "source": [
    "chainstrength = 8\n",
    "numruns = 10"
   ]
  },
  {
   "cell_type": "markdown",
   "metadata": {},
   "source": [
    "Run the QUBO:"
   ]
  },
  {
   "cell_type": "code",
   "execution_count": 62,
   "metadata": {},
   "outputs": [],
   "source": [
    "sampler = EmbeddingComposite(DWaveSampler())\n",
    "response = sampler.sample_qubo(Q,\n",
    "                               chain_strength=chainstrength,\n",
    "                               num_reads=numruns,\n",
    "                               label='Example - Maximum Cut')"
   ]
  },
  {
   "cell_type": "code",
   "execution_count": 63,
   "metadata": {},
   "outputs": [],
   "source": [
    "dwave.inspector.show(response);"
   ]
  },
  {
   "cell_type": "code",
   "execution_count": 64,
   "metadata": {},
   "outputs": [
    {
     "name": "stdout",
     "output_type": "stream",
     "text": [
      "   1  2  3  4  5 energy num_oc. chain_.\n",
      "0  1  0  0  1  1   -5.0       3     0.0\n",
      "1  0  1  1  0  1   -5.0       2     0.0\n",
      "2  0  1  1  0  0   -5.0       4     0.0\n",
      "3  1  0  0  1  0   -5.0       1     0.0\n",
      "['BINARY', 4 rows, 10 samples, 5 variables]\n"
     ]
    }
   ],
   "source": [
    "print(response)"
   ]
  },
  {
   "cell_type": "markdown",
   "metadata": {},
   "source": [
    "## QA Max-Cut: Gset data"
   ]
  },
  {
   "cell_type": "markdown",
   "metadata": {},
   "source": [
    "The Gset data consists of 71 weighted and unweighted graphs of different sizes (800 to 10,000 nodes) which can be dowloaded from [https://web.stanford.edu/~yyye/yyye/Gset](https://web.stanford.edu/~yyye/yyye/Gset)."
   ]
  },
  {
   "cell_type": "markdown",
   "metadata": {},
   "source": [
    "Parse a Gset file into a NetworkX graph:"
   ]
  },
  {
   "cell_type": "code",
   "execution_count": 28,
   "metadata": {},
   "outputs": [],
   "source": [
    "def parse_graph(filename):\n",
    "    G = nx.Graph()\n",
    "    \n",
    "    with open(filename) as file:\n",
    "        num_nodes, num_edges = map(int, file.readline().strip().split())\n",
    "        \n",
    "        for _ in range(num_edges):\n",
    "            u, v, w = map(int, file.readline().strip().split())\n",
    "            G.add_edge(u, v, weight=w)\n",
    "        \n",
    "    return num_nodes, num_edges, G"
   ]
  },
  {
   "cell_type": "markdown",
   "metadata": {},
   "source": [
    "### G1 graph"
   ]
  },
  {
   "cell_type": "markdown",
   "metadata": {},
   "source": [
    "Load the G1 graph:"
   ]
  },
  {
   "cell_type": "code",
   "execution_count": 43,
   "metadata": {},
   "outputs": [
    {
     "name": "stdout",
     "output_type": "stream",
     "text": [
      "G1 has 800 nodes and 19176 edges\n"
     ]
    }
   ],
   "source": [
    "num_nodes, num_edges, G = parse_graph('datasets/G1.txt')\n",
    "\n",
    "assert num_nodes == G.number_of_nodes()\n",
    "assert num_edges == G.number_of_edges()\n",
    "\n",
    "print(f'G1 has {G.number_of_nodes()} nodes and {G.number_of_edges()} edges')"
   ]
  },
  {
   "cell_type": "markdown",
   "metadata": {},
   "source": [
    "Construct the $\\mathbf{Q}$ matrix (taking into account that G could be a weighted graph):"
   ]
  },
  {
   "cell_type": "code",
   "execution_count": 44,
   "metadata": {},
   "outputs": [],
   "source": [
    "Q = defaultdict(int)\n",
    "\n",
    "for i, j in G.edges:\n",
    "    w = G.adj[i][j]['weight']\n",
    "    \n",
    "    Q[i, i] -= w\n",
    "    Q[j, j] -= w\n",
    "    Q[i, j] += 2 * w"
   ]
  },
  {
   "cell_type": "code",
   "execution_count": 55,
   "metadata": {},
   "outputs": [],
   "source": [
    "chainstrength = 80\n",
    "numruns = 10"
   ]
  },
  {
   "cell_type": "code",
   "execution_count": 56,
   "metadata": {},
   "outputs": [
    {
     "ename": "ValueError",
     "evalue": "no embedding found",
     "output_type": "error",
     "traceback": [
      "\u001b[0;31m---------------------------------------------------------------------------\u001b[0m",
      "\u001b[0;31mValueError\u001b[0m                                Traceback (most recent call last)",
      "\u001b[0;32m<timed exec>\u001b[0m in \u001b[0;36m<module>\u001b[0;34m\u001b[0m\n",
      "\u001b[0;32m/Library/Frameworks/Python.framework/Versions/3.8/lib/python3.8/site-packages/dimod/core/sampler.py\u001b[0m in \u001b[0;36msample_qubo\u001b[0;34m(self, Q, **parameters)\u001b[0m\n\u001b[1;32m    238\u001b[0m         \"\"\"\n\u001b[1;32m    239\u001b[0m         \u001b[0mbqm\u001b[0m \u001b[0;34m=\u001b[0m \u001b[0mBinaryQuadraticModel\u001b[0m\u001b[0;34m.\u001b[0m\u001b[0mfrom_qubo\u001b[0m\u001b[0;34m(\u001b[0m\u001b[0mQ\u001b[0m\u001b[0;34m)\u001b[0m\u001b[0;34m\u001b[0m\u001b[0;34m\u001b[0m\u001b[0m\n\u001b[0;32m--> 240\u001b[0;31m         \u001b[0;32mreturn\u001b[0m \u001b[0mself\u001b[0m\u001b[0;34m.\u001b[0m\u001b[0msample\u001b[0m\u001b[0;34m(\u001b[0m\u001b[0mbqm\u001b[0m\u001b[0;34m,\u001b[0m \u001b[0;34m**\u001b[0m\u001b[0mparameters\u001b[0m\u001b[0;34m)\u001b[0m\u001b[0;34m\u001b[0m\u001b[0;34m\u001b[0m\u001b[0m\n\u001b[0m",
      "\u001b[0;32m/Library/Frameworks/Python.framework/Versions/3.8/lib/python3.8/site-packages/dwave/system/composites/embedding.py\u001b[0m in \u001b[0;36msample\u001b[0;34m(self, bqm, chain_strength, chain_break_method, chain_break_fraction, embedding_parameters, return_embedding, warnings, **parameters)\u001b[0m\n\u001b[1;32m    239\u001b[0m \u001b[0;34m\u001b[0m\u001b[0m\n\u001b[1;32m    240\u001b[0m         \u001b[0;32mif\u001b[0m \u001b[0mbqm\u001b[0m \u001b[0;32mand\u001b[0m \u001b[0;32mnot\u001b[0m \u001b[0membedding\u001b[0m\u001b[0;34m:\u001b[0m\u001b[0;34m\u001b[0m\u001b[0;34m\u001b[0m\u001b[0m\n\u001b[0;32m--> 241\u001b[0;31m             \u001b[0;32mraise\u001b[0m \u001b[0mValueError\u001b[0m\u001b[0;34m(\u001b[0m\u001b[0;34m\"no embedding found\"\u001b[0m\u001b[0;34m)\u001b[0m\u001b[0;34m\u001b[0m\u001b[0;34m\u001b[0m\u001b[0m\n\u001b[0m\u001b[1;32m    242\u001b[0m \u001b[0;34m\u001b[0m\u001b[0m\n\u001b[1;32m    243\u001b[0m         \u001b[0;32mif\u001b[0m \u001b[0;32mnot\u001b[0m \u001b[0mhasattr\u001b[0m\u001b[0;34m(\u001b[0m\u001b[0membedding\u001b[0m\u001b[0;34m,\u001b[0m \u001b[0;34m'embed_bqm'\u001b[0m\u001b[0;34m)\u001b[0m\u001b[0;34m:\u001b[0m\u001b[0;34m\u001b[0m\u001b[0;34m\u001b[0m\u001b[0m\n",
      "\u001b[0;31mValueError\u001b[0m: no embedding found"
     ]
    }
   ],
   "source": [
    "%%time\n",
    "\n",
    "sampler = EmbeddingComposite(DWaveSampler())\n",
    "response = sampler.sample_qubo(Q,\n",
    "                               chain_strength=chainstrength,\n",
    "                               num_reads=numruns,\n",
    "                               label='G1 - Maximum Cut')"
   ]
  },
  {
   "cell_type": "code",
   "execution_count": null,
   "metadata": {},
   "outputs": [],
   "source": [
    "dwave.inspector.show(response);"
   ]
  }
 ],
 "metadata": {
  "kernelspec": {
   "display_name": "Python 3",
   "language": "python",
   "name": "python3"
  },
  "language_info": {
   "codemirror_mode": {
    "name": "ipython",
    "version": 3
   },
   "file_extension": ".py",
   "mimetype": "text/x-python",
   "name": "python",
   "nbconvert_exporter": "python",
   "pygments_lexer": "ipython3",
   "version": "3.8.8"
  }
 },
 "nbformat": 4,
 "nbformat_minor": 1
}
